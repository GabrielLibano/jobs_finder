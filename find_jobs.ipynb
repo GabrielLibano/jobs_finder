{
 "cells": [
  {
   "cell_type": "code",
   "execution_count": 5,
   "metadata": {},
   "outputs": [
    {
     "name": "stdout",
     "output_type": "stream",
     "text": [
      "https://serpapi.com/search\n",
      "Getting SerpAPI data for page: 0\n",
      "https://serpapi.com/search\n"
     ]
    },
    {
     "name": "stderr",
     "output_type": "stream",
     "text": [
      "C:\\Users\\gabri\\AppData\\Local\\Temp\\ipykernel_5304\\22124498.py:55: FutureWarning: In a future version of pandas all arguments of DataFrame.drop except for the argument 'labels' will be keyword-only.\n",
      "  axis=1).drop('detected_extensions', 1)\n"
     ]
    },
    {
     "name": "stdout",
     "output_type": "stream",
     "text": [
      "Getting SerpAPI data for page: 10\n",
      "https://serpapi.com/search\n",
      "Getting SerpAPI data for page: 20\n",
      "https://serpapi.com/search\n"
     ]
    },
    {
     "name": "stderr",
     "output_type": "stream",
     "text": [
      "C:\\Users\\gabri\\AppData\\Local\\Temp\\ipykernel_5304\\22124498.py:55: FutureWarning: In a future version of pandas all arguments of DataFrame.drop except for the argument 'labels' will be keyword-only.\n",
      "  axis=1).drop('detected_extensions', 1)\n",
      "C:\\Users\\gabri\\AppData\\Local\\Temp\\ipykernel_5304\\22124498.py:55: FutureWarning: In a future version of pandas all arguments of DataFrame.drop except for the argument 'labels' will be keyword-only.\n",
      "  axis=1).drop('detected_extensions', 1)\n"
     ]
    }
   ],
   "source": [
    "import base64\n",
    "import pandas as pd\n",
    "from serpapi import GoogleSearch\n",
    "from google.cloud import bigquery\n",
    "import datetime\n",
    "import time\n",
    "import time\n",
    "import pandas as pd\n",
    "from selenium import webdriver\n",
    "from selenium.webdriver.chrome.options import Options\n",
    "from selenium import webdriver\n",
    "from selenium.webdriver.common.by import By\n",
    "import dotenv\n",
    "import os\n",
    "dotenv.load_dotenv(dotenv.find_dotenv())\n",
    "\n",
    "def hello_pubsub():\n",
    "    \n",
    "    search_term = \"Analista de dados Junior\"\n",
    "    search_location = \"Brazil\"\n",
    "\n",
    "    for num in range(45):\n",
    "\n",
    "        start = num * 10\n",
    "        params = {\n",
    "            \"api_key\": os.getenv(\"API_KEY\"), #Fill in with your API key from SerpApi\n",
    "            \"device\": \"desktop\",\n",
    "            \"engine\": \"google_jobs\",\n",
    "            \"google_domain\": \"google.com\",\n",
    "            \"q\": search_term,\n",
    "            \"hl\": \"pt\",\n",
    "            \"gl\": \"br\",\n",
    "            \"location\": search_location,\n",
    "            #\"chips\": \"date_posted:today\",\n",
    "            \"start\": start,\n",
    "        }\n",
    "\n",
    "        search = GoogleSearch(params)\n",
    "        results = search.get_dict()\n",
    "\n",
    "        # check if the last search page (i.e., no results)\n",
    "        try:\n",
    "            if results['error'] == \"Google hasn't returned any results for this query.\":\n",
    "                break\n",
    "        except KeyError:\n",
    "            print(f\"Getting SerpAPI data for page: {start}\")\n",
    "        else:\n",
    "            continue\n",
    "\n",
    "        # create dataframe of 10 pulled results\n",
    "        jobs = results['jobs_results']\n",
    "        jobs = pd.DataFrame(jobs)\n",
    "        jobs = pd.concat([pd.DataFrame(jobs), \n",
    "                        pd.json_normalize(jobs['detected_extensions'])], \n",
    "                        axis=1).drop('detected_extensions', 1)\n",
    "        jobs['date_time'] = datetime.datetime.utcnow()\n",
    "\n",
    "        \n",
    "        # concat dataframe\n",
    "        if start == 0:\n",
    "            jobs_all = jobs\n",
    "        else:\n",
    "            jobs_all = pd.concat([jobs_all, jobs])\n",
    "\n",
    "        jobs_all['search_term'] = search_term\n",
    "        jobs_all['search_location'] = search_location\n",
    "\n",
    "    # table_id = \"lucky-processor-339305.gsearch_job_listings.g_search\" # BigQuery Table name\n",
    "    # client = bigquery.Client()\n",
    "    # table = client.get_table(table_id)\n",
    "    # errors = client.insert_rows_from_dataframe(table, jobs_all)\n",
    "\n",
    "\n",
    "    driver = webdriver.Chrome()  # Optional argument, if not specified will search path.\n",
    "\n",
    "    driver.get('https://www.glassdoor.com.br/Sal%C3%A1rios/index.htm');\n",
    "\n",
    "    time.sleep(0.5)\n",
    "\n",
    "    #Buscando o salario daquele trabalho\n",
    "    driver.find_element(By.ID, 'KeywordSearch').send_keys(search_term)\n",
    "    driver.find_element(By.ID,\"HeroSearchButton\").click()\n",
    "    time.sleep(2)\n",
    "\n",
    "    #Pegando o salario e qtd\n",
    "    mediaSalarial = driver.find_element(By.CLASS_NAME, 'ebrouyy2').text\n",
    "    qtdSalarios = driver.find_element(By.CLASS_NAME, 'css-1vkj9it').text\n",
    "    table = {\"Media salárial\":[mediaSalarial], \"Quantidade de Salario Reportado\":[qtdSalarios]}\n",
    "    testedf = pd.DataFrame(table)\n",
    "    testedf.to_excel(\"salarios.xlsx\")\n",
    "\n",
    "    time.sleep(5)\n",
    "\n",
    "    driver.quit()\n",
    "\n",
    "    jobs_all['k'] = 1\n",
    "    testedf['k'] = 1\n",
    "    resultado = pd.merge(jobs_all, testedf, on=['k'])\n",
    "    resultado = resultado.drop([\"k\"],axis=1)\n",
    "\n",
    "    resultado.to_excel(\"\\export\\jobs.xlsx\")\n",
    "hello_pubsub()"
   ]
  }
 ],
 "metadata": {
  "kernelspec": {
   "display_name": "Python 3",
   "language": "python",
   "name": "python3"
  },
  "language_info": {
   "codemirror_mode": {
    "name": "ipython",
    "version": 3
   },
   "file_extension": ".py",
   "mimetype": "text/x-python",
   "name": "python",
   "nbconvert_exporter": "python",
   "pygments_lexer": "ipython3",
   "version": "3.10.9 (tags/v3.10.9:1dd9be6, Dec  6 2022, 20:01:21) [MSC v.1934 64 bit (AMD64)]"
  },
  "orig_nbformat": 4,
  "vscode": {
   "interpreter": {
    "hash": "e9e375da22a79186ffe49072ae6df2c8be50fc2c627f3d12cad18e70942528a3"
   }
  }
 },
 "nbformat": 4,
 "nbformat_minor": 2
}
